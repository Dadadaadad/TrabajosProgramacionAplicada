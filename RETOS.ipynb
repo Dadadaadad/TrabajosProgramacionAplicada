{
  "nbformat": 4,
  "nbformat_minor": 0,
  "metadata": {
    "colab": {
      "name": "Untitled2.ipynb",
      "provenance": [],
      "authorship_tag": "ABX9TyN9jxkoQBb35iwRMFEUSJLB",
      "include_colab_link": true
    },
    "kernelspec": {
      "name": "python3",
      "display_name": "Python 3"
    },
    "language_info": {
      "name": "python"
    }
  },
  "cells": [
    {
      "cell_type": "markdown",
      "metadata": {
        "id": "view-in-github",
        "colab_type": "text"
      },
      "source": [
        "<a href=\"https://colab.research.google.com/github/Dadadaadad/TrabajosProgramacionAplicada/blob/main/RETOS.ipynb\" target=\"_parent\"><img src=\"https://colab.research.google.com/assets/colab-badge.svg\" alt=\"Open In Colab\"/></a>"
      ]
    },
    {
      "cell_type": "markdown",
      "source": [
        "Trabajo de recuperacion Programacion aplicada **Retos** "
      ],
      "metadata": {
        "id": "_3LpCCoWvNA-"
      }
    },
    {
      "cell_type": "code",
      "source": [
        "## Reto 6 intervalos:\n",
        "import random\n",
        "y =list(range(1,121))\n",
        "x = random.choice (y)\n",
        "print('la cantidad de suerte que tienes es:', x)\n",
        "if (x < 10 ):\n",
        " print('Anda con cuidado; tu suerte es menor a  10')\n",
        "elif (x <50):\n",
        " print('Quiza no sea buena idea apostar en nada, tu suerte esta apenas entre 10 y 50')\n",
        "elif (x <100):\n",
        " print('Por encima del promedio! tu suerte esta entre 50 y 100')\n",
        "else:\n",
        " print('increible! tu suerte es mayor que 100')"
      ],
      "metadata": {
        "colab": {
          "base_uri": "https://localhost:8080/"
        },
        "id": "shknsGIvvYp2",
        "outputId": "d38fb178-828f-4073-c7fb-d60caba4a72f"
      },
      "execution_count": 20,
      "outputs": [
        {
          "output_type": "stream",
          "name": "stdout",
          "text": [
            "la cantidad de suerte que tienes es: 106\n",
            "increible! tu suerte es mayor que 100\n"
          ]
        }
      ]
    },
    {
      "cell_type": "code",
      "source": [
        "## Reto 8 pares: \n",
        "print('sumando de dos en dos, entre 10 y 20 resultaria:')\n",
        "for x in range(10, 21, 2):\n",
        "  \n",
        "   print(x)\n",
        " "
      ],
      "metadata": {
        "colab": {
          "base_uri": "https://localhost:8080/"
        },
        "id": "0FdkYYvuDG4g",
        "outputId": "7b05bba0-40b7-45d1-931c-3566e2055cea"
      },
      "execution_count": 25,
      "outputs": [
        {
          "output_type": "stream",
          "name": "stdout",
          "text": [
            "sumando de dos en dos, entre 10 y 20 resultaria:\n",
            "10\n",
            "12\n",
            "14\n",
            "16\n",
            "18\n",
            "20\n"
          ]
        }
      ]
    },
    {
      "cell_type": "code",
      "source": [
        "## Reto 9 Series\n",
        "import random\n",
        "random.seed() \n",
        "inicial=random.randint(150,200)\n",
        "final=inicial+random.randint(30,70)\n",
        "intervalo=random.randint(3,7)\n",
        "print('inicial=',inicial)\n",
        "print('final=',final)\n",
        "print('intervalo=',intervalo)\n",
        "i=inicial\n",
        "L=[] \n",
        "total=0 \n",
        "while i<final:\n",
        "  L.append(i) \n",
        "  i+=intervalo \n",
        "  total+=i\n",
        "print(L)\n",
        "print('La suma es:',total)\n",
        "## se uso la solucion, de metodo 2 que estaba en la pagina."
      ],
      "metadata": {
        "colab": {
          "base_uri": "https://localhost:8080/"
        },
        "id": "yeM3z6PDGwoP",
        "outputId": "88e0a23e-7f8c-4940-ef5f-6decc835d003"
      },
      "execution_count": 27,
      "outputs": [
        {
          "output_type": "stream",
          "name": "stdout",
          "text": [
            "inicial= 163\n",
            "final= 222\n",
            "intervalo= 6\n",
            "[163, 169, 175, 181, 187, 193, 199, 205, 211, 217]\n",
            "La suma es: 1960\n"
          ]
        }
      ]
    },
    {
      "cell_type": "code",
      "source": [
        "## Practica 10 Progresion geometrica\n",
        "s=0\n",
        "for i in range(8*8):\n",
        "  s+=2**i\n",
        "  print(i+1,2**i,s)\n",
        "print(\"En notación científica es %e,\\n y el total es: %E granos de trigo.\" % (2**i,s))"
      ],
      "metadata": {
        "colab": {
          "base_uri": "https://localhost:8080/"
        },
        "id": "5C3t5HyrQLhR",
        "outputId": "a6cd937c-fe95-491a-cac9-278765f786ab"
      },
      "execution_count": 34,
      "outputs": [
        {
          "output_type": "stream",
          "name": "stdout",
          "text": [
            "1 1 1\n",
            "2 2 3\n",
            "3 4 7\n",
            "4 8 15\n",
            "5 16 31\n",
            "6 32 63\n",
            "7 64 127\n",
            "8 128 255\n",
            "9 256 511\n",
            "10 512 1023\n",
            "11 1024 2047\n",
            "12 2048 4095\n",
            "13 4096 8191\n",
            "14 8192 16383\n",
            "15 16384 32767\n",
            "16 32768 65535\n",
            "17 65536 131071\n",
            "18 131072 262143\n",
            "19 262144 524287\n",
            "20 524288 1048575\n",
            "21 1048576 2097151\n",
            "22 2097152 4194303\n",
            "23 4194304 8388607\n",
            "24 8388608 16777215\n",
            "25 16777216 33554431\n",
            "26 33554432 67108863\n",
            "27 67108864 134217727\n",
            "28 134217728 268435455\n",
            "29 268435456 536870911\n",
            "30 536870912 1073741823\n",
            "31 1073741824 2147483647\n",
            "32 2147483648 4294967295\n",
            "33 4294967296 8589934591\n",
            "34 8589934592 17179869183\n",
            "35 17179869184 34359738367\n",
            "36 34359738368 68719476735\n",
            "37 68719476736 137438953471\n",
            "38 137438953472 274877906943\n",
            "39 274877906944 549755813887\n",
            "40 549755813888 1099511627775\n",
            "41 1099511627776 2199023255551\n",
            "42 2199023255552 4398046511103\n",
            "43 4398046511104 8796093022207\n",
            "44 8796093022208 17592186044415\n",
            "45 17592186044416 35184372088831\n",
            "46 35184372088832 70368744177663\n",
            "47 70368744177664 140737488355327\n",
            "48 140737488355328 281474976710655\n",
            "49 281474976710656 562949953421311\n",
            "50 562949953421312 1125899906842623\n",
            "51 1125899906842624 2251799813685247\n",
            "52 2251799813685248 4503599627370495\n",
            "53 4503599627370496 9007199254740991\n",
            "54 9007199254740992 18014398509481983\n",
            "55 18014398509481984 36028797018963967\n",
            "56 36028797018963968 72057594037927935\n",
            "57 72057594037927936 144115188075855871\n",
            "58 144115188075855872 288230376151711743\n",
            "59 288230376151711744 576460752303423487\n",
            "60 576460752303423488 1152921504606846975\n",
            "61 1152921504606846976 2305843009213693951\n",
            "62 2305843009213693952 4611686018427387903\n",
            "63 4611686018427387904 9223372036854775807\n",
            "64 9223372036854775808 18446744073709551615\n",
            "En notación científica es 9.223372e+18,\n",
            " y el total es: 1.844674E+19 granos de trigo.\n"
          ]
        }
      ]
    },
    {
      "cell_type": "code",
      "source": [
        "## Reto 13 Media de dos numeros\n",
        "print('para calcular la media de la edad tuya y de tu hermano solo necesito:')\n",
        "x = float(input(\"Tu edad \\n\")) \n",
        "y = float(input(\"La de tu hermano \\n\"))\n",
        "z= (x+y)/2\n",
        "print('Tu edad: \\n', x )\n",
        "print('La de tu hermano: \\n',y)\n",
        "print('Media de sus edades: \\n',z)\n"
      ],
      "metadata": {
        "colab": {
          "base_uri": "https://localhost:8080/"
        },
        "id": "9H3reFauQ1vR",
        "outputId": "12ae6b06-0dda-4fc4-9460-e96c6f15e395"
      },
      "execution_count": 43,
      "outputs": [
        {
          "output_type": "stream",
          "name": "stdout",
          "text": [
            "para calcular la media de la edad tuya y de tu hermano solo necesito:\n",
            "Tu edad \n",
            "58\n",
            "La de tu hermano \n",
            "35\n",
            "Tu edad: \n",
            " 58.0\n",
            "La de tu hermano: \n",
            " 35.0\n",
            "Media de sus edades: \n",
            " 46.5\n"
          ]
        }
      ]
    },
    {
      "cell_type": "code",
      "source": [
        "## Reto 15 Media de n valores\n",
        "import random\n",
        "x=0\n",
        "u=0\n",
        "numeros=[]\n",
        "while (x < 2):\n",
        "  x = int(input('Numero de numeros para escoger aleatoreamente \\n'))\n",
        "  \n",
        "while (u < x):\n",
        "  z = random.randint(1, 100) \n",
        "  numeros.append(z)\n",
        "  u+=1\n",
        "  print(z)\n",
        "def calcular(numeros,x):\n",
        "  w= sum(numeros)\n",
        "  v=w/x\n",
        "  return(v)\n",
        "print('La media los numeros que se eligieron aleatoreamente es =  \\n', calcular(numeros,x))"
      ],
      "metadata": {
        "colab": {
          "base_uri": "https://localhost:8080/"
        },
        "id": "J9I6cMf1Tx7x",
        "outputId": "ed0f999f-fcc4-4d51-cfd6-07215e60ccf1"
      },
      "execution_count": 64,
      "outputs": [
        {
          "output_type": "stream",
          "name": "stdout",
          "text": [
            "Numero de numeros para escoger aleatoreamente \n",
            "9\n",
            "62\n",
            "37\n",
            "26\n",
            "22\n",
            "39\n",
            "47\n",
            "69\n",
            "21\n",
            "20\n",
            "La media los numeros que se eligieron aleatoreamente es =  \n",
            " 38.111111111111114\n"
          ]
        }
      ]
    },
    {
      "cell_type": "code",
      "source": [
        "## Reto 17 Adivina el numero secreto\n",
        "import random\n",
        "print('Miremos que tan bueno eres adivinando. escogere un numero entre 1 y 100 y tu debes')\n",
        "n=random.randrange(1,100)\n",
        "nu=int(input('decir el número que crees que he elegido '))\n",
        "c=1\n",
        "while nu!=n:\n",
        "  c+=1\n",
        "  if nu>n:\n",
        "      nu=int(input('El número es mas pequeño '))\n",
        "  elif nu<n:\n",
        "      nu=int(input('El número es mas grande  '))\n",
        "print('Bien hecho! Has adivinado que el numero era :',n)\n",
        "print('Y tardaste',c,'intentos.')\n",
        "if (7>c):\n",
        "  print('Que rapido, Nostradamus estaria orgulloso de ti')\n",
        "elif (7<c):\n",
        "  print('Demasiados intentos. Tu tercer ojo se apago :(')\n"
      ],
      "metadata": {
        "colab": {
          "base_uri": "https://localhost:8080/"
        },
        "id": "tDIR_LRoYUYO",
        "outputId": "adbf6588-84ef-4a54-e6c5-b04c232ac3f5"
      },
      "execution_count": 93,
      "outputs": [
        {
          "output_type": "stream",
          "name": "stdout",
          "text": [
            "Miremos que tan bueno eres adivinando. escogere un numero entre 1 y 100 y tu debes\n",
            "decir el número que crees que he elegido 50\n",
            "El número es mas grande  60\n",
            "El número es mas grande  80\n",
            "El número es mas pequeño 74\n",
            "El número es mas pequeño 71\n",
            "El número es mas pequeño 65\n",
            "El número es mas grande  66\n",
            "El número es mas grande  69\n",
            "El número es mas pequeño 68\n",
            "Bien hecho! Has adivinado que el numero era : 68\n",
            "Y tan solo tardaste 9 intentos.\n",
            "Demasiados intentos. Tu tercer ojo se apago :(\n"
          ]
        }
      ]
    },
    {
      "cell_type": "code",
      "source": [
        "## Reto 20 Bisiesto\n",
        "\n",
        "def bisiesto(x):\n",
        "  if x%4==0 and (not(x%100==0) or x%400==0 ):\n",
        "    texto='El año fue bisiesto.'\n",
        "  else:\n",
        "    texto='El año NO fue bisiesto.'\n",
        "  return texto\n",
        "x=int(input('Introduzca un año entre 4 y 2021: '))\n",
        "print(x,bisiesto(x))"
      ],
      "metadata": {
        "colab": {
          "base_uri": "https://localhost:8080/"
        },
        "id": "DFCwKrtslXly",
        "outputId": "d64418da-a62a-4fbb-9931-8c480207757b"
      },
      "execution_count": 87,
      "outputs": [
        {
          "output_type": "stream",
          "name": "stdout",
          "text": [
            "Introduzca un año entre 4 y 2021: 6\n",
            "6 El año NO fue bisiesto.\n"
          ]
        }
      ]
    },
    {
      "cell_type": "code",
      "source": [
        "## Reto 26 Cifras pares e impares\n",
        "from random import randint\n",
        "print('elegire un numero, entre 1M y 2M, luego veras el resto')\n",
        "x = randint(1000000, 2000001)\n",
        "print(x)\n",
        "x=str(x)\n",
        "par=0\n",
        "for i in x:\n",
        "  if int(i)%2==0:\n",
        "    par+=1\n",
        "print('Hay un total de',par,'cifras pares')\n",
        "print('Hay un total de',7-par,'cifras impares')"
      ],
      "metadata": {
        "colab": {
          "base_uri": "https://localhost:8080/"
        },
        "id": "5jK1pnIUsl2M",
        "outputId": "cdf5a957-d341-4b51-880b-a374296e98dd"
      },
      "execution_count": 94,
      "outputs": [
        {
          "output_type": "stream",
          "name": "stdout",
          "text": [
            "elegire un numero, entre 1M y 2M, luego veras el resto\n",
            "1418231\n",
            "Hay un total de 3 cifras pares\n",
            "Hay un total de 4 cifras impares\n"
          ]
        }
      ]
    },
    {
      "cell_type": "code",
      "source": [
        "## Reto 27 Maximo y minimo\n",
        "from random import randint\n",
        "x=0\n",
        "lista=[]\n",
        "while x<10:\n",
        "  w=randint(1, 1998)\n",
        "  lista.append(w)\n",
        "  x+=1\n",
        "print('los numeros generados aleatoreamente son', lista)\n",
        "maxi=lista[0] \n",
        "mini=lista[0] \n",
        "for i in range (10):\n",
        "  if lista[i]>=maxi:\n",
        "    maxi=lista[i]\n",
        "  elif lista[i]<=mini:\n",
        "    mini=lista[i]\n",
        "print('MAXIMO ES:',maxi)\n",
        "print('MINIMO ES:',mini)"
      ],
      "metadata": {
        "colab": {
          "base_uri": "https://localhost:8080/"
        },
        "id": "d4fvCtuf0aPp",
        "outputId": "f9aae688-258e-4052-c9cc-b16ea0a9d5ff"
      },
      "execution_count": 101,
      "outputs": [
        {
          "output_type": "stream",
          "name": "stdout",
          "text": [
            "los numeros generados aleatoreamente son [779, 740, 639, 1264, 98, 1034, 852, 774, 156, 729]\n",
            "MAXIMO ES: 1264\n",
            "MINIMO ES: 98\n"
          ]
        }
      ]
    }
  ]
}